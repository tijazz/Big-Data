{
  "nbformat": 4,
  "nbformat_minor": 0,
  "metadata": {
    "colab": {
      "name": "clusteranalysis_spark.ipynb",
      "provenance": [],
      "collapsed_sections": [
        "WOunR2M6rw3r"
      ],
      "include_colab_link": true
    },
    "kernelspec": {
      "name": "python3",
      "display_name": "Python 3"
    }
  },
  "cells": [
    {
      "cell_type": "markdown",
      "metadata": {
        "id": "view-in-github",
        "colab_type": "text"
      },
      "source": [
        "<a href=\"https://colab.research.google.com/github/tijazz/Big-Data/blob/main/SparkNotebooks/clusteranalysis_spark.ipynb\" target=\"_parent\"><img src=\"https://colab.research.google.com/assets/colab-badge.svg\" alt=\"Open In Colab\"/></a>"
      ]
    },
    {
      "cell_type": "markdown",
      "metadata": {
        "id": "NI4MkvGio2zj"
      },
      "source": [
        "#Setting up PySpark in Colab\n",
        "Spark is written in the Scala programming language and requires the Java Virtual Machine (JVM) to run. Therefore, our first task is to download Java.\n",
        "\n"
      ]
    },
    {
      "cell_type": "code",
      "metadata": {
        "colab": {
          "base_uri": "https://localhost:8080/"
        },
        "id": "AHNCU0iVor0S",
        "outputId": "fc63f79e-e9d4-48f7-8c55-aaa362f015e8"
      },
      "source": [
        "!apt-get install openjdk-8-jdk-headless"
      ],
      "execution_count": 8,
      "outputs": [
        {
          "output_type": "stream",
          "name": "stdout",
          "text": [
            "Reading package lists... Done\n",
            "Building dependency tree       \n",
            "Reading state information... Done\n",
            "openjdk-8-jdk-headless is already the newest version (8u312-b07-0ubuntu1~18.04).\n",
            "The following packages were automatically installed and are no longer required:\n",
            "  libnvidia-common-460 nsight-compute-2020.2.0\n",
            "Use 'apt autoremove' to remove them.\n",
            "0 upgraded, 0 newly installed, 0 to remove and 67 not upgraded.\n"
          ]
        }
      ]
    },
    {
      "cell_type": "markdown",
      "metadata": {
        "id": "GGwmuhGmpTkj"
      },
      "source": [
        "Next, we will install Apache Spark 3.0.1 with Hadoop 2.7 .\n",
        "Now, we just need to unzip that folder."
      ]
    },
    {
      "cell_type": "code",
      "metadata": {
        "colab": {
          "base_uri": "https://localhost:8080/"
        },
        "id": "Pu9RT0qvpV_7",
        "outputId": "519069d5-5836-4d47-e0db-3d134a53d416"
      },
      "source": [
        "\n",
        "!wget https://archive.apache.org/dist/spark/spark-3.2.1/spark-3.2.1-bin-hadoop2.7.tgz\n",
        "!tar xf /content/spark-3.2.1-bin-hadoop2.7.tgz\n"
      ],
      "execution_count": 9,
      "outputs": [
        {
          "output_type": "stream",
          "name": "stdout",
          "text": [
            "--2022-05-17 19:43:24--  https://archive.apache.org/dist/spark/spark-3.2.1/spark-3.2.1-bin-hadoop2.7.tgz\n",
            "Resolving archive.apache.org (archive.apache.org)... 138.201.131.134, 2a01:4f8:172:2ec5::2\n",
            "Connecting to archive.apache.org (archive.apache.org)|138.201.131.134|:443... connected.\n",
            "HTTP request sent, awaiting response... 200 OK\n",
            "Length: 272637746 (260M) [application/x-gzip]\n",
            "Saving to: ‘spark-3.2.1-bin-hadoop2.7.tgz’\n",
            "\n",
            "spark-3.2.1-bin-had 100%[===================>] 260.01M  19.3MB/s    in 14s     \n",
            "\n",
            "2022-05-17 19:43:39 (18.1 MB/s) - ‘spark-3.2.1-bin-hadoop2.7.tgz’ saved [272637746/272637746]\n",
            "\n"
          ]
        }
      ]
    },
    {
      "cell_type": "markdown",
      "metadata": {
        "id": "5XsjEvGaq2Px"
      },
      "source": [
        "There is one last thing that we need to install and that is the findspark library. It will locate Spark on the system and import it as a regular library.\n",
        "\n"
      ]
    },
    {
      "cell_type": "code",
      "metadata": {
        "id": "6v7dSMKLq7sy"
      },
      "source": [
        "!pip install -q findspark\n"
      ],
      "execution_count": 10,
      "outputs": []
    },
    {
      "cell_type": "markdown",
      "metadata": {
        "id": "KEtMvmDDrAT-"
      },
      "source": [
        "Now that we have installed all the necessary dependencies in Colab, it is time to set the environment path. This will enable us to run Pyspark in the Colab environment.\n"
      ]
    },
    {
      "cell_type": "code",
      "metadata": {
        "id": "AJ74KqQ0rCQz"
      },
      "source": [
        "import os\n",
        "os.environ[\"JAVA_HOME\"] = \"/usr/lib/jvm/java-8-openjdk-amd64\"\n",
        "os.environ[\"SPARK_HOME\"] = \"/content/spark-3.2.1-bin-hadoop2.7\"\n"
      ],
      "execution_count": 11,
      "outputs": []
    },
    {
      "cell_type": "markdown",
      "metadata": {
        "id": "LFMTvwGCrWCD"
      },
      "source": [
        "We need to locate Spark in the system. For that, we import findspark and use the findspark.init() method."
      ]
    },
    {
      "cell_type": "code",
      "metadata": {
        "colab": {
          "base_uri": "https://localhost:8080/",
          "height": 35
        },
        "id": "8Nt1kPgRrWXr",
        "outputId": "8f1663a8-4c1f-41ee-c994-3519bd702f62"
      },
      "source": [
        "import findspark\n",
        "findspark.init()\n",
        "findspark.find()"
      ],
      "execution_count": 12,
      "outputs": [
        {
          "output_type": "execute_result",
          "data": {
            "text/plain": [
              "'/content/spark-3.2.1-bin-hadoop2.7'"
            ],
            "application/vnd.google.colaboratory.intrinsic+json": {
              "type": "string"
            }
          },
          "metadata": {},
          "execution_count": 12
        }
      ]
    },
    {
      "cell_type": "markdown",
      "metadata": {
        "id": "rQ5fGiVxrgg_"
      },
      "source": [
        "Now, we can import SparkSession from pyspark.sql and create a SparkSession, which is the entry point to Spark.\n",
        "\n",
        "You can give a name to the session using appName() and add some configurations with config() if you wish."
      ]
    },
    {
      "cell_type": "code",
      "metadata": {
        "id": "5BtkNi4NrjZ3"
      },
      "source": [
        "from pyspark.sql import SparkSession\n",
        "\n",
        "spark = SparkSession.builder\\\n",
        "        .master(\"local\")\\\n",
        "        .appName(\"Clustering Analysis\")\\\n",
        "        .config('spark.ui.port', '4050')\\\n",
        "        .getOrCreate()"
      ],
      "execution_count": 14,
      "outputs": []
    },
    {
      "cell_type": "markdown",
      "metadata": {
        "id": "cptuFcj_rrAz"
      },
      "source": [
        "Finally, print the SparkSession variable."
      ]
    },
    {
      "cell_type": "code",
      "metadata": {
        "colab": {
          "base_uri": "https://localhost:8080/",
          "height": 219
        },
        "id": "iZlftTV-rscj",
        "outputId": "8427d183-a5c0-45f4-d028-5a3f04d15aac"
      },
      "source": [
        "spark\n"
      ],
      "execution_count": 15,
      "outputs": [
        {
          "output_type": "execute_result",
          "data": {
            "text/plain": [
              "<pyspark.sql.session.SparkSession at 0x7fe3507fc050>"
            ],
            "text/html": [
              "\n",
              "            <div>\n",
              "                <p><b>SparkSession - in-memory</b></p>\n",
              "                \n",
              "        <div>\n",
              "            <p><b>SparkContext</b></p>\n",
              "\n",
              "            <p><a href=\"http://ef0b4cdd3c8b:4050\">Spark UI</a></p>\n",
              "\n",
              "            <dl>\n",
              "              <dt>Version</dt>\n",
              "                <dd><code>v3.2.1</code></dd>\n",
              "              <dt>Master</dt>\n",
              "                <dd><code>local</code></dd>\n",
              "              <dt>AppName</dt>\n",
              "                <dd><code>Colab</code></dd>\n",
              "            </dl>\n",
              "        </div>\n",
              "        \n",
              "            </div>\n",
              "        "
            ]
          },
          "metadata": {},
          "execution_count": 15
        }
      ]
    },
    {
      "cell_type": "markdown",
      "metadata": {
        "id": "WOunR2M6rw3r"
      },
      "source": [
        "#optional\n",
        "If you want to view the Spark UI, you would have to include a few more lines of code to create a public URL for the UI page."
      ]
    },
    {
      "cell_type": "code",
      "metadata": {
        "colab": {
          "base_uri": "https://localhost:8080/"
        },
        "id": "k1lfJsSkrzvX",
        "outputId": "1c999f1a-84a3-494b-c792-61f135109a4a"
      },
      "source": [
        "!wget https://bin.equinox.io/c/4VmDzA7iaHb/ngrok-stable-linux-amd64.zip\n",
        "!unzip ngrok-stable-linux-amd64.zip\n",
        "get_ipython().system_raw('./ngrok http 4050 &')\n",
        "!curl -s http://localhost:4040/api/tunnels"
      ],
      "execution_count": 16,
      "outputs": [
        {
          "output_type": "stream",
          "name": "stdout",
          "text": [
            "--2022-05-17 19:44:15--  https://bin.equinox.io/c/4VmDzA7iaHb/ngrok-stable-linux-amd64.zip\n",
            "Resolving bin.equinox.io (bin.equinox.io)... 18.205.222.128, 54.237.133.81, 52.202.168.65, ...\n",
            "Connecting to bin.equinox.io (bin.equinox.io)|18.205.222.128|:443... connected.\n",
            "HTTP request sent, awaiting response... 200 OK\n",
            "Length: 13832437 (13M) [application/octet-stream]\n",
            "Saving to: ‘ngrok-stable-linux-amd64.zip’\n",
            "\n",
            "ngrok-stable-linux- 100%[===================>]  13.19M  19.4MB/s    in 0.7s    \n",
            "\n",
            "2022-05-17 19:44:16 (19.4 MB/s) - ‘ngrok-stable-linux-amd64.zip’ saved [13832437/13832437]\n",
            "\n",
            "Archive:  ngrok-stable-linux-amd64.zip\n",
            "  inflating: ngrok                   \n",
            "{\"tunnels\":[],\"uri\":\"/api/tunnels\"}\n"
          ]
        }
      ]
    },
    {
      "cell_type": "markdown",
      "metadata": {
        "id": "xolQcJheskwP"
      },
      "source": [
        "#Loading data into PySpark\n",
        "We will use the read.csv module. The inferSchema parameter provided will enable Spark to automatically determine the data type for each column but it has to go over the data once. If you don’t want that to happen, then you can instead provide the schema explicitly in the schema parameter.\n"
      ]
    },
    {
      "cell_type": "code",
      "metadata": {
        "id": "FJ6kRC540jRz"
      },
      "source": [
        "\n",
        "# Utility functions for Spark Cluster Analysis Hands-On\n",
        "#\n",
        "#\n",
        "from itertools import cycle, islice\n",
        "from math import sqrt\n",
        "from numpy import array\n",
        "from pandas.plotting import parallel_coordinates\n",
        "from pyspark.ml.clustering import KMeans as KM\n",
        "from pyspark.mllib.linalg import DenseVector\n",
        "import matplotlib.pyplot as plt\n",
        "import numpy as np\n",
        "import pandas as pd\n",
        "\n",
        "def computeCost(featuresAndPrediction, model):\n",
        "    allClusterCenters = [DenseVector(c) for c in model.clusterCenters()]\n",
        "    arrayCollection   = featuresAndPrediction.rdd.map(array)\n",
        "\n",
        "    def error(point, predictedCluster):\n",
        "        center = allClusterCenters[predictedCluster]\n",
        "        z      = point - center\n",
        "        return sqrt((z*z).sum())\n",
        "    \n",
        "    return arrayCollection.map(lambda row: error(row[0], row[1])).reduce(lambda x, y: x + y)\n",
        "\n",
        "\n",
        "def elbow(elbowset, clusters):\n",
        "\twsseList = []\t\n",
        "\tfor k in clusters:\n",
        "\t\tprint(\"Training for cluster size {} \".format(k))\n",
        "\t\tkmeans = KM(k = k, seed = 1)\n",
        "\t\tmodel = kmeans.fit(elbowset)\n",
        "\t\ttransformed = model.transform(elbowset)\n",
        "\t\tfeaturesAndPrediction = transformed.select(\"features\", \"prediction\")\n",
        "\n",
        "\t\tW = computeCost(featuresAndPrediction, model)\n",
        "\t\tprint(\"......................WSSE = {} \".format(W))\n",
        "\n",
        "\t\twsseList.append(W)\n",
        "\treturn wsseList\n",
        "\n",
        "def elbow_plot(wsseList, clusters):\n",
        "\twsseDF = pd.DataFrame({'WSSE' : wsseList, 'k' : clusters })\n",
        "\twsseDF.plot(y='WSSE', x='k', figsize=(15,10), grid=True, marker='o')\n",
        "\n",
        "def pd_centers(featuresUsed, centers):\n",
        "\tcolNames = list(featuresUsed)\n",
        "\tcolNames.append('prediction')\n",
        "\n",
        "\t# Zip with a column called 'prediction' (index)\n",
        "\tZ = [np.append(A, index) for index, A in enumerate(centers)]\n",
        "\n",
        "\t# Convert to pandas for plotting\n",
        "\tP = pd.DataFrame(Z, columns=colNames)\n",
        "\tP['prediction'] = P['prediction'].astype(int)\n",
        "\treturn P\n",
        "\n",
        "def parallel_plot(data, P):\n",
        "\tmy_colors = list(islice(cycle(['b', 'r', 'g', 'y', 'k']), None, len(P)))\n",
        "\tplt.figure(figsize=(15,8)).gca().axes.set_ylim([-3,+3])\n",
        "\tparallel_coordinates(data, 'prediction', color = my_colors, marker='o')\n"
      ],
      "execution_count": 18,
      "outputs": []
    },
    {
      "cell_type": "code",
      "metadata": {
        "id": "EC7jBeYCn5pW"
      },
      "source": [
        "#first downlad the file from this url (r-click then save as) :\n",
        "#https://mailbcuac.sharepoint.com/:u:/s/CMP7203-BigDataManagement_GRP/EQzfZhLMgkxNkClacJCqrrwBRPkVwiYJalp9JQtI5tBnSQ?e=ybKi7a\n",
        "# after that you can upload it to the colab\n",
        "df = spark.read.csv(\"/content/minute_weather.csv\", header=True, inferSchema=True)"
      ],
      "execution_count": 20,
      "outputs": []
    },
    {
      "cell_type": "markdown",
      "metadata": {
        "id": "Tmw-YkjnpY-N"
      },
      "source": [
        "The first argument specifies the URL to the daily_weather.csv file, the second argument specifies the spark-csv format, the third argument says the first line in daily_weather.csv is the header, and the fourth argument says to infer the data types."
      ]
    },
    {
      "cell_type": "code",
      "metadata": {
        "colab": {
          "base_uri": "https://localhost:8080/"
        },
        "id": "AJ83gnoPzivV",
        "outputId": "e254251a-393e-49ba-dff3-cd44a7b36eb6"
      },
      "source": [
        "df.count()"
      ],
      "execution_count": 22,
      "outputs": [
        {
          "output_type": "execute_result",
          "data": {
            "text/plain": [
              "235530"
            ]
          },
          "metadata": {},
          "execution_count": 22
        }
      ]
    },
    {
      "cell_type": "code",
      "metadata": {
        "colab": {
          "base_uri": "https://localhost:8080/"
        },
        "id": "4QVAZfc4zmFe",
        "outputId": "6aa7ad82-ac02-471c-bfec-65a4b9df95b2"
      },
      "source": [
        "filteredDF = df.filter((df.rowID % 10) == 0)\n",
        "filteredDF.count()"
      ],
      "execution_count": 24,
      "outputs": [
        {
          "output_type": "execute_result",
          "data": {
            "text/plain": [
              "23553"
            ]
          },
          "metadata": {},
          "execution_count": 24
        }
      ]
    },
    {
      "cell_type": "code",
      "metadata": {
        "colab": {
          "base_uri": "https://localhost:8080/",
          "height": 488
        },
        "id": "nbt7UE4kzo4n",
        "outputId": "fa4671f9-bbad-403b-b648-80ef62602e9c"
      },
      "source": [
        "filteredDF.describe().toPandas().transpose()"
      ],
      "execution_count": 25,
      "outputs": [
        {
          "output_type": "execute_result",
          "data": {
            "text/plain": [
              "                        0                      1                     2  \\\n",
              "summary             count                   mean                stddev   \n",
              "rowID               23553               117760.0     67993.09781146907   \n",
              "hpwren_timestamp    23553                   None                  None   \n",
              "air_pressure        23553      917.9839043858473    3.3709643252374715   \n",
              "air_temp            23553      58.14164310278932    11.346096137211923   \n",
              "avg_wind_direction  23543     145.03720851208428     96.01857303001776   \n",
              "avg_wind_speed      23543     2.8501975109374253    2.0738798619151515   \n",
              "max_wind_direction  23543     148.29758314573334     91.58909567858569   \n",
              "max_wind_speed      23543     3.5050163530561154    2.4517233000381675   \n",
              "min_wind_direction  23543     148.81828993756105    101.51852115235788   \n",
              "min_wind_speed      23543     2.1811493862294635    1.7517135329405467   \n",
              "rain_accumulation   23552  4.0973165760896607E-4  0.006420193959059082   \n",
              "rain_duration       23552     0.6436820652173914     5.781617963457356   \n",
              "relative_humidity   23553      44.45524137052598    28.613116151644032   \n",
              "\n",
              "                                      3                    4  \n",
              "summary                             min                  max  \n",
              "rowID                                 0               235520  \n",
              "hpwren_timestamp    2011-09-10 00:00:49  2012-02-20 18:11:39  \n",
              "air_pressure                      906.4                929.5  \n",
              "air_temp                          35.24                90.68  \n",
              "avg_wind_direction                  0.0                359.0  \n",
              "avg_wind_speed                      0.0                 23.4  \n",
              "max_wind_direction                  0.0                359.0  \n",
              "max_wind_speed                      0.1                 24.5  \n",
              "min_wind_direction                  0.0                359.0  \n",
              "min_wind_speed                      0.0                 21.6  \n",
              "rain_accumulation                   0.0                 0.37  \n",
              "rain_duration                       0.0                 60.0  \n",
              "relative_humidity                   1.4                 93.0  "
            ],
            "text/html": [
              "\n",
              "  <div id=\"df-c17255e6-b3cf-481e-87f4-ab07f3c44980\">\n",
              "    <div class=\"colab-df-container\">\n",
              "      <div>\n",
              "<style scoped>\n",
              "    .dataframe tbody tr th:only-of-type {\n",
              "        vertical-align: middle;\n",
              "    }\n",
              "\n",
              "    .dataframe tbody tr th {\n",
              "        vertical-align: top;\n",
              "    }\n",
              "\n",
              "    .dataframe thead th {\n",
              "        text-align: right;\n",
              "    }\n",
              "</style>\n",
              "<table border=\"1\" class=\"dataframe\">\n",
              "  <thead>\n",
              "    <tr style=\"text-align: right;\">\n",
              "      <th></th>\n",
              "      <th>0</th>\n",
              "      <th>1</th>\n",
              "      <th>2</th>\n",
              "      <th>3</th>\n",
              "      <th>4</th>\n",
              "    </tr>\n",
              "  </thead>\n",
              "  <tbody>\n",
              "    <tr>\n",
              "      <th>summary</th>\n",
              "      <td>count</td>\n",
              "      <td>mean</td>\n",
              "      <td>stddev</td>\n",
              "      <td>min</td>\n",
              "      <td>max</td>\n",
              "    </tr>\n",
              "    <tr>\n",
              "      <th>rowID</th>\n",
              "      <td>23553</td>\n",
              "      <td>117760.0</td>\n",
              "      <td>67993.09781146907</td>\n",
              "      <td>0</td>\n",
              "      <td>235520</td>\n",
              "    </tr>\n",
              "    <tr>\n",
              "      <th>hpwren_timestamp</th>\n",
              "      <td>23553</td>\n",
              "      <td>None</td>\n",
              "      <td>None</td>\n",
              "      <td>2011-09-10 00:00:49</td>\n",
              "      <td>2012-02-20 18:11:39</td>\n",
              "    </tr>\n",
              "    <tr>\n",
              "      <th>air_pressure</th>\n",
              "      <td>23553</td>\n",
              "      <td>917.9839043858473</td>\n",
              "      <td>3.3709643252374715</td>\n",
              "      <td>906.4</td>\n",
              "      <td>929.5</td>\n",
              "    </tr>\n",
              "    <tr>\n",
              "      <th>air_temp</th>\n",
              "      <td>23553</td>\n",
              "      <td>58.14164310278932</td>\n",
              "      <td>11.346096137211923</td>\n",
              "      <td>35.24</td>\n",
              "      <td>90.68</td>\n",
              "    </tr>\n",
              "    <tr>\n",
              "      <th>avg_wind_direction</th>\n",
              "      <td>23543</td>\n",
              "      <td>145.03720851208428</td>\n",
              "      <td>96.01857303001776</td>\n",
              "      <td>0.0</td>\n",
              "      <td>359.0</td>\n",
              "    </tr>\n",
              "    <tr>\n",
              "      <th>avg_wind_speed</th>\n",
              "      <td>23543</td>\n",
              "      <td>2.8501975109374253</td>\n",
              "      <td>2.0738798619151515</td>\n",
              "      <td>0.0</td>\n",
              "      <td>23.4</td>\n",
              "    </tr>\n",
              "    <tr>\n",
              "      <th>max_wind_direction</th>\n",
              "      <td>23543</td>\n",
              "      <td>148.29758314573334</td>\n",
              "      <td>91.58909567858569</td>\n",
              "      <td>0.0</td>\n",
              "      <td>359.0</td>\n",
              "    </tr>\n",
              "    <tr>\n",
              "      <th>max_wind_speed</th>\n",
              "      <td>23543</td>\n",
              "      <td>3.5050163530561154</td>\n",
              "      <td>2.4517233000381675</td>\n",
              "      <td>0.1</td>\n",
              "      <td>24.5</td>\n",
              "    </tr>\n",
              "    <tr>\n",
              "      <th>min_wind_direction</th>\n",
              "      <td>23543</td>\n",
              "      <td>148.81828993756105</td>\n",
              "      <td>101.51852115235788</td>\n",
              "      <td>0.0</td>\n",
              "      <td>359.0</td>\n",
              "    </tr>\n",
              "    <tr>\n",
              "      <th>min_wind_speed</th>\n",
              "      <td>23543</td>\n",
              "      <td>2.1811493862294635</td>\n",
              "      <td>1.7517135329405467</td>\n",
              "      <td>0.0</td>\n",
              "      <td>21.6</td>\n",
              "    </tr>\n",
              "    <tr>\n",
              "      <th>rain_accumulation</th>\n",
              "      <td>23552</td>\n",
              "      <td>4.0973165760896607E-4</td>\n",
              "      <td>0.006420193959059082</td>\n",
              "      <td>0.0</td>\n",
              "      <td>0.37</td>\n",
              "    </tr>\n",
              "    <tr>\n",
              "      <th>rain_duration</th>\n",
              "      <td>23552</td>\n",
              "      <td>0.6436820652173914</td>\n",
              "      <td>5.781617963457356</td>\n",
              "      <td>0.0</td>\n",
              "      <td>60.0</td>\n",
              "    </tr>\n",
              "    <tr>\n",
              "      <th>relative_humidity</th>\n",
              "      <td>23553</td>\n",
              "      <td>44.45524137052598</td>\n",
              "      <td>28.613116151644032</td>\n",
              "      <td>1.4</td>\n",
              "      <td>93.0</td>\n",
              "    </tr>\n",
              "  </tbody>\n",
              "</table>\n",
              "</div>\n",
              "      <button class=\"colab-df-convert\" onclick=\"convertToInteractive('df-c17255e6-b3cf-481e-87f4-ab07f3c44980')\"\n",
              "              title=\"Convert this dataframe to an interactive table.\"\n",
              "              style=\"display:none;\">\n",
              "        \n",
              "  <svg xmlns=\"http://www.w3.org/2000/svg\" height=\"24px\"viewBox=\"0 0 24 24\"\n",
              "       width=\"24px\">\n",
              "    <path d=\"M0 0h24v24H0V0z\" fill=\"none\"/>\n",
              "    <path d=\"M18.56 5.44l.94 2.06.94-2.06 2.06-.94-2.06-.94-.94-2.06-.94 2.06-2.06.94zm-11 1L8.5 8.5l.94-2.06 2.06-.94-2.06-.94L8.5 2.5l-.94 2.06-2.06.94zm10 10l.94 2.06.94-2.06 2.06-.94-2.06-.94-.94-2.06-.94 2.06-2.06.94z\"/><path d=\"M17.41 7.96l-1.37-1.37c-.4-.4-.92-.59-1.43-.59-.52 0-1.04.2-1.43.59L10.3 9.45l-7.72 7.72c-.78.78-.78 2.05 0 2.83L4 21.41c.39.39.9.59 1.41.59.51 0 1.02-.2 1.41-.59l7.78-7.78 2.81-2.81c.8-.78.8-2.07 0-2.86zM5.41 20L4 18.59l7.72-7.72 1.47 1.35L5.41 20z\"/>\n",
              "  </svg>\n",
              "      </button>\n",
              "      \n",
              "  <style>\n",
              "    .colab-df-container {\n",
              "      display:flex;\n",
              "      flex-wrap:wrap;\n",
              "      gap: 12px;\n",
              "    }\n",
              "\n",
              "    .colab-df-convert {\n",
              "      background-color: #E8F0FE;\n",
              "      border: none;\n",
              "      border-radius: 50%;\n",
              "      cursor: pointer;\n",
              "      display: none;\n",
              "      fill: #1967D2;\n",
              "      height: 32px;\n",
              "      padding: 0 0 0 0;\n",
              "      width: 32px;\n",
              "    }\n",
              "\n",
              "    .colab-df-convert:hover {\n",
              "      background-color: #E2EBFA;\n",
              "      box-shadow: 0px 1px 2px rgba(60, 64, 67, 0.3), 0px 1px 3px 1px rgba(60, 64, 67, 0.15);\n",
              "      fill: #174EA6;\n",
              "    }\n",
              "\n",
              "    [theme=dark] .colab-df-convert {\n",
              "      background-color: #3B4455;\n",
              "      fill: #D2E3FC;\n",
              "    }\n",
              "\n",
              "    [theme=dark] .colab-df-convert:hover {\n",
              "      background-color: #434B5C;\n",
              "      box-shadow: 0px 1px 3px 1px rgba(0, 0, 0, 0.15);\n",
              "      filter: drop-shadow(0px 1px 2px rgba(0, 0, 0, 0.3));\n",
              "      fill: #FFFFFF;\n",
              "    }\n",
              "  </style>\n",
              "\n",
              "      <script>\n",
              "        const buttonEl =\n",
              "          document.querySelector('#df-c17255e6-b3cf-481e-87f4-ab07f3c44980 button.colab-df-convert');\n",
              "        buttonEl.style.display =\n",
              "          google.colab.kernel.accessAllowed ? 'block' : 'none';\n",
              "\n",
              "        async function convertToInteractive(key) {\n",
              "          const element = document.querySelector('#df-c17255e6-b3cf-481e-87f4-ab07f3c44980');\n",
              "          const dataTable =\n",
              "            await google.colab.kernel.invokeFunction('convertToInteractive',\n",
              "                                                     [key], {});\n",
              "          if (!dataTable) return;\n",
              "\n",
              "          const docLinkHtml = 'Like what you see? Visit the ' +\n",
              "            '<a target=\"_blank\" href=https://colab.research.google.com/notebooks/data_table.ipynb>data table notebook</a>'\n",
              "            + ' to learn more about interactive tables.';\n",
              "          element.innerHTML = '';\n",
              "          dataTable['output_type'] = 'display_data';\n",
              "          await google.colab.output.renderOutput(dataTable, element);\n",
              "          const docLink = document.createElement('div');\n",
              "          docLink.innerHTML = docLinkHtml;\n",
              "          element.appendChild(docLink);\n",
              "        }\n",
              "      </script>\n",
              "    </div>\n",
              "  </div>\n",
              "  "
            ]
          },
          "metadata": {},
          "execution_count": 25
        }
      ]
    },
    {
      "cell_type": "code",
      "metadata": {
        "colab": {
          "base_uri": "https://localhost:8080/"
        },
        "id": "iFyZQEq7zsga",
        "outputId": "ba1ee2a6-67c7-4a58-9e64-d0b494021224"
      },
      "source": [
        "filteredDF.filter(filteredDF.rain_accumulation == 0.0).count() "
      ],
      "execution_count": 26,
      "outputs": [
        {
          "output_type": "execute_result",
          "data": {
            "text/plain": [
              "23334"
            ]
          },
          "metadata": {},
          "execution_count": 26
        }
      ]
    },
    {
      "cell_type": "code",
      "metadata": {
        "colab": {
          "base_uri": "https://localhost:8080/"
        },
        "id": "VKwVB_81zuiP",
        "outputId": "c4318207-f762-452d-e0ad-7eda521d7fd5"
      },
      "source": [
        "filteredDF.filter(filteredDF.rain_duration == 0.0).count() "
      ],
      "execution_count": 27,
      "outputs": [
        {
          "output_type": "execute_result",
          "data": {
            "text/plain": [
              "23203"
            ]
          },
          "metadata": {},
          "execution_count": 27
        }
      ]
    },
    {
      "cell_type": "code",
      "metadata": {
        "id": "XkgJgSX7zwIW"
      },
      "source": [
        "workingDF = filteredDF.drop('rain_accumulation').drop('rain_duration').drop('hpwren_timestamp')"
      ],
      "execution_count": 28,
      "outputs": []
    },
    {
      "cell_type": "code",
      "source": [
        "#viewing the RDD, after dropping the column\n",
        "workingDF.describe().toPandas().transpose()"
      ],
      "metadata": {
        "id": "FGokuhB_neAK",
        "outputId": "2e1d82d8-8d36-4873-8399-fe364e97bb14",
        "colab": {
          "base_uri": "https://localhost:8080/",
          "height": 394
        }
      },
      "execution_count": 30,
      "outputs": [
        {
          "output_type": "execute_result",
          "data": {
            "text/plain": [
              "                        0                   1                   2      3  \\\n",
              "summary             count                mean              stddev    min   \n",
              "rowID               23553            117760.0   67993.09781146907      0   \n",
              "air_pressure        23553   917.9839043858473  3.3709643252374715  906.4   \n",
              "air_temp            23553   58.14164310278932  11.346096137211923  35.24   \n",
              "avg_wind_direction  23543  145.03720851208428   96.01857303001776    0.0   \n",
              "avg_wind_speed      23543  2.8501975109374253  2.0738798619151515    0.0   \n",
              "max_wind_direction  23543  148.29758314573334   91.58909567858569    0.0   \n",
              "max_wind_speed      23543  3.5050163530561154  2.4517233000381675    0.1   \n",
              "min_wind_direction  23543  148.81828993756105  101.51852115235788    0.0   \n",
              "min_wind_speed      23543  2.1811493862294635  1.7517135329405467    0.0   \n",
              "relative_humidity   23553   44.45524137052598  28.613116151644032    1.4   \n",
              "\n",
              "                         4  \n",
              "summary                max  \n",
              "rowID               235520  \n",
              "air_pressure         929.5  \n",
              "air_temp             90.68  \n",
              "avg_wind_direction   359.0  \n",
              "avg_wind_speed        23.4  \n",
              "max_wind_direction   359.0  \n",
              "max_wind_speed        24.5  \n",
              "min_wind_direction   359.0  \n",
              "min_wind_speed        21.6  \n",
              "relative_humidity     93.0  "
            ],
            "text/html": [
              "\n",
              "  <div id=\"df-d71c968f-3f40-4e23-b61b-9bdc94b552c3\">\n",
              "    <div class=\"colab-df-container\">\n",
              "      <div>\n",
              "<style scoped>\n",
              "    .dataframe tbody tr th:only-of-type {\n",
              "        vertical-align: middle;\n",
              "    }\n",
              "\n",
              "    .dataframe tbody tr th {\n",
              "        vertical-align: top;\n",
              "    }\n",
              "\n",
              "    .dataframe thead th {\n",
              "        text-align: right;\n",
              "    }\n",
              "</style>\n",
              "<table border=\"1\" class=\"dataframe\">\n",
              "  <thead>\n",
              "    <tr style=\"text-align: right;\">\n",
              "      <th></th>\n",
              "      <th>0</th>\n",
              "      <th>1</th>\n",
              "      <th>2</th>\n",
              "      <th>3</th>\n",
              "      <th>4</th>\n",
              "    </tr>\n",
              "  </thead>\n",
              "  <tbody>\n",
              "    <tr>\n",
              "      <th>summary</th>\n",
              "      <td>count</td>\n",
              "      <td>mean</td>\n",
              "      <td>stddev</td>\n",
              "      <td>min</td>\n",
              "      <td>max</td>\n",
              "    </tr>\n",
              "    <tr>\n",
              "      <th>rowID</th>\n",
              "      <td>23553</td>\n",
              "      <td>117760.0</td>\n",
              "      <td>67993.09781146907</td>\n",
              "      <td>0</td>\n",
              "      <td>235520</td>\n",
              "    </tr>\n",
              "    <tr>\n",
              "      <th>air_pressure</th>\n",
              "      <td>23553</td>\n",
              "      <td>917.9839043858473</td>\n",
              "      <td>3.3709643252374715</td>\n",
              "      <td>906.4</td>\n",
              "      <td>929.5</td>\n",
              "    </tr>\n",
              "    <tr>\n",
              "      <th>air_temp</th>\n",
              "      <td>23553</td>\n",
              "      <td>58.14164310278932</td>\n",
              "      <td>11.346096137211923</td>\n",
              "      <td>35.24</td>\n",
              "      <td>90.68</td>\n",
              "    </tr>\n",
              "    <tr>\n",
              "      <th>avg_wind_direction</th>\n",
              "      <td>23543</td>\n",
              "      <td>145.03720851208428</td>\n",
              "      <td>96.01857303001776</td>\n",
              "      <td>0.0</td>\n",
              "      <td>359.0</td>\n",
              "    </tr>\n",
              "    <tr>\n",
              "      <th>avg_wind_speed</th>\n",
              "      <td>23543</td>\n",
              "      <td>2.8501975109374253</td>\n",
              "      <td>2.0738798619151515</td>\n",
              "      <td>0.0</td>\n",
              "      <td>23.4</td>\n",
              "    </tr>\n",
              "    <tr>\n",
              "      <th>max_wind_direction</th>\n",
              "      <td>23543</td>\n",
              "      <td>148.29758314573334</td>\n",
              "      <td>91.58909567858569</td>\n",
              "      <td>0.0</td>\n",
              "      <td>359.0</td>\n",
              "    </tr>\n",
              "    <tr>\n",
              "      <th>max_wind_speed</th>\n",
              "      <td>23543</td>\n",
              "      <td>3.5050163530561154</td>\n",
              "      <td>2.4517233000381675</td>\n",
              "      <td>0.1</td>\n",
              "      <td>24.5</td>\n",
              "    </tr>\n",
              "    <tr>\n",
              "      <th>min_wind_direction</th>\n",
              "      <td>23543</td>\n",
              "      <td>148.81828993756105</td>\n",
              "      <td>101.51852115235788</td>\n",
              "      <td>0.0</td>\n",
              "      <td>359.0</td>\n",
              "    </tr>\n",
              "    <tr>\n",
              "      <th>min_wind_speed</th>\n",
              "      <td>23543</td>\n",
              "      <td>2.1811493862294635</td>\n",
              "      <td>1.7517135329405467</td>\n",
              "      <td>0.0</td>\n",
              "      <td>21.6</td>\n",
              "    </tr>\n",
              "    <tr>\n",
              "      <th>relative_humidity</th>\n",
              "      <td>23553</td>\n",
              "      <td>44.45524137052598</td>\n",
              "      <td>28.613116151644032</td>\n",
              "      <td>1.4</td>\n",
              "      <td>93.0</td>\n",
              "    </tr>\n",
              "  </tbody>\n",
              "</table>\n",
              "</div>\n",
              "      <button class=\"colab-df-convert\" onclick=\"convertToInteractive('df-d71c968f-3f40-4e23-b61b-9bdc94b552c3')\"\n",
              "              title=\"Convert this dataframe to an interactive table.\"\n",
              "              style=\"display:none;\">\n",
              "        \n",
              "  <svg xmlns=\"http://www.w3.org/2000/svg\" height=\"24px\"viewBox=\"0 0 24 24\"\n",
              "       width=\"24px\">\n",
              "    <path d=\"M0 0h24v24H0V0z\" fill=\"none\"/>\n",
              "    <path d=\"M18.56 5.44l.94 2.06.94-2.06 2.06-.94-2.06-.94-.94-2.06-.94 2.06-2.06.94zm-11 1L8.5 8.5l.94-2.06 2.06-.94-2.06-.94L8.5 2.5l-.94 2.06-2.06.94zm10 10l.94 2.06.94-2.06 2.06-.94-2.06-.94-.94-2.06-.94 2.06-2.06.94z\"/><path d=\"M17.41 7.96l-1.37-1.37c-.4-.4-.92-.59-1.43-.59-.52 0-1.04.2-1.43.59L10.3 9.45l-7.72 7.72c-.78.78-.78 2.05 0 2.83L4 21.41c.39.39.9.59 1.41.59.51 0 1.02-.2 1.41-.59l7.78-7.78 2.81-2.81c.8-.78.8-2.07 0-2.86zM5.41 20L4 18.59l7.72-7.72 1.47 1.35L5.41 20z\"/>\n",
              "  </svg>\n",
              "      </button>\n",
              "      \n",
              "  <style>\n",
              "    .colab-df-container {\n",
              "      display:flex;\n",
              "      flex-wrap:wrap;\n",
              "      gap: 12px;\n",
              "    }\n",
              "\n",
              "    .colab-df-convert {\n",
              "      background-color: #E8F0FE;\n",
              "      border: none;\n",
              "      border-radius: 50%;\n",
              "      cursor: pointer;\n",
              "      display: none;\n",
              "      fill: #1967D2;\n",
              "      height: 32px;\n",
              "      padding: 0 0 0 0;\n",
              "      width: 32px;\n",
              "    }\n",
              "\n",
              "    .colab-df-convert:hover {\n",
              "      background-color: #E2EBFA;\n",
              "      box-shadow: 0px 1px 2px rgba(60, 64, 67, 0.3), 0px 1px 3px 1px rgba(60, 64, 67, 0.15);\n",
              "      fill: #174EA6;\n",
              "    }\n",
              "\n",
              "    [theme=dark] .colab-df-convert {\n",
              "      background-color: #3B4455;\n",
              "      fill: #D2E3FC;\n",
              "    }\n",
              "\n",
              "    [theme=dark] .colab-df-convert:hover {\n",
              "      background-color: #434B5C;\n",
              "      box-shadow: 0px 1px 3px 1px rgba(0, 0, 0, 0.15);\n",
              "      filter: drop-shadow(0px 1px 2px rgba(0, 0, 0, 0.3));\n",
              "      fill: #FFFFFF;\n",
              "    }\n",
              "  </style>\n",
              "\n",
              "      <script>\n",
              "        const buttonEl =\n",
              "          document.querySelector('#df-d71c968f-3f40-4e23-b61b-9bdc94b552c3 button.colab-df-convert');\n",
              "        buttonEl.style.display =\n",
              "          google.colab.kernel.accessAllowed ? 'block' : 'none';\n",
              "\n",
              "        async function convertToInteractive(key) {\n",
              "          const element = document.querySelector('#df-d71c968f-3f40-4e23-b61b-9bdc94b552c3');\n",
              "          const dataTable =\n",
              "            await google.colab.kernel.invokeFunction('convertToInteractive',\n",
              "                                                     [key], {});\n",
              "          if (!dataTable) return;\n",
              "\n",
              "          const docLinkHtml = 'Like what you see? Visit the ' +\n",
              "            '<a target=\"_blank\" href=https://colab.research.google.com/notebooks/data_table.ipynb>data table notebook</a>'\n",
              "            + ' to learn more about interactive tables.';\n",
              "          element.innerHTML = '';\n",
              "          dataTable['output_type'] = 'display_data';\n",
              "          await google.colab.output.renderOutput(dataTable, element);\n",
              "          const docLink = document.createElement('div');\n",
              "          docLink.innerHTML = docLinkHtml;\n",
              "          element.appendChild(docLink);\n",
              "        }\n",
              "      </script>\n",
              "    </div>\n",
              "  </div>\n",
              "  "
            ]
          },
          "metadata": {},
          "execution_count": 30
        }
      ]
    },
    {
      "cell_type": "code",
      "metadata": {
        "colab": {
          "base_uri": "https://localhost:8080/"
        },
        "id": "rWJlBjgtzyI8",
        "outputId": "9e677dd5-0def-4980-bce0-26bbeab821a0"
      },
      "source": [
        "before = workingDF.count()\n",
        "workingDF = workingDF.na.drop()\n",
        "after = workingDF.count()\n",
        "before - after"
      ],
      "execution_count": 31,
      "outputs": [
        {
          "output_type": "execute_result",
          "data": {
            "text/plain": [
              "10"
            ]
          },
          "metadata": {},
          "execution_count": 31
        }
      ]
    },
    {
      "cell_type": "code",
      "metadata": {
        "colab": {
          "base_uri": "https://localhost:8080/"
        },
        "id": "HeWxL9ZLz1R9",
        "outputId": "9177b8bb-9a8c-4d43-856f-c2cc29a54c0b"
      },
      "source": [
        "workingDF.columns"
      ],
      "execution_count": 32,
      "outputs": [
        {
          "output_type": "execute_result",
          "data": {
            "text/plain": [
              "['rowID',\n",
              " 'air_pressure',\n",
              " 'air_temp',\n",
              " 'avg_wind_direction',\n",
              " 'avg_wind_speed',\n",
              " 'max_wind_direction',\n",
              " 'max_wind_speed',\n",
              " 'min_wind_direction',\n",
              " 'min_wind_speed',\n",
              " 'relative_humidity']"
            ]
          },
          "metadata": {},
          "execution_count": 32
        }
      ]
    },
    {
      "cell_type": "code",
      "metadata": {
        "id": "-Q9csy4Cz47C"
      },
      "source": [
        "from pyspark.ml.clustering import KMeans\n",
        "from pyspark.ml.feature import VectorAssembler\n",
        "from pyspark.ml.feature import StandardScaler\n",
        "featuresUsed = ['air_pressure', 'air_temp', 'avg_wind_direction', 'avg_wind_speed', 'max_wind_direction', \n",
        "        'max_wind_speed','relative_humidity']\n",
        "assembler = VectorAssembler(inputCols=featuresUsed, outputCol=\"features_unscaled\")\n",
        "assembled = assembler.transform(workingDF)"
      ],
      "execution_count": 33,
      "outputs": []
    },
    {
      "cell_type": "code",
      "metadata": {
        "id": "dJbdFZrJ0Dsl"
      },
      "source": [
        "scaler = StandardScaler(inputCol=\"features_unscaled\", outputCol=\"features\", withStd=True, withMean=True)\n",
        "scalerModel = scaler.fit(assembled)\n",
        "scaledData = scalerModel.transform(assembled)"
      ],
      "execution_count": 34,
      "outputs": []
    },
    {
      "cell_type": "code",
      "metadata": {
        "colab": {
          "base_uri": "https://localhost:8080/"
        },
        "id": "aqzWLSAg0Gtu",
        "outputId": "c33d892f-63db-42bf-c8fc-5c4d84be2a73"
      },
      "source": [
        "scaledData = scaledData.select(\"features\", \"rowID\")\n",
        "\n",
        "elbowset = scaledData.filter((scaledData.rowID % 3) == 0).select(\"features\")\n",
        "elbowset.persist()"
      ],
      "execution_count": 35,
      "outputs": [
        {
          "output_type": "execute_result",
          "data": {
            "text/plain": [
              "DataFrame[features: vector]"
            ]
          },
          "metadata": {},
          "execution_count": 35
        }
      ]
    },
    {
      "cell_type": "code",
      "metadata": {
        "colab": {
          "base_uri": "https://localhost:8080/"
        },
        "id": "KZOW1F1K0JLW",
        "outputId": "0d7372ae-a926-44e3-b40f-b9fc3f564fbf"
      },
      "source": [
        "clusters = range(2,31)\n",
        "\n",
        "wsseList = elbow(elbowset, clusters)"
      ],
      "execution_count": 36,
      "outputs": [
        {
          "output_type": "stream",
          "name": "stdout",
          "text": [
            "Training for cluster size 2 \n",
            "......................WSSE = 17054.96976041502 \n",
            "Training for cluster size 3 \n",
            "......................WSSE = 15121.535384894043 \n",
            "Training for cluster size 4 \n",
            "......................WSSE = 13922.787753313522 \n",
            "Training for cluster size 5 \n",
            "......................WSSE = 12722.835053406356 \n",
            "Training for cluster size 6 \n",
            "......................WSSE = 12164.098946452536 \n",
            "Training for cluster size 7 \n",
            "......................WSSE = 11785.639559102548 \n",
            "Training for cluster size 8 \n",
            "......................WSSE = 11391.581477145946 \n",
            "Training for cluster size 9 \n",
            "......................WSSE = 11338.98669575139 \n",
            "Training for cluster size 10 \n",
            "......................WSSE = 10802.91634221975 \n",
            "Training for cluster size 11 \n",
            "......................WSSE = 10413.679501639968 \n",
            "Training for cluster size 12 \n",
            "......................WSSE = 10127.266320907027 \n",
            "Training for cluster size 13 \n",
            "......................WSSE = 10053.056951028553 \n",
            "Training for cluster size 14 \n",
            "......................WSSE = 9904.777745530879 \n",
            "Training for cluster size 15 \n",
            "......................WSSE = 9521.20034434005 \n",
            "Training for cluster size 16 \n",
            "......................WSSE = 9360.738672630096 \n",
            "Training for cluster size 17 \n",
            "......................WSSE = 9291.877750565627 \n",
            "Training for cluster size 18 \n",
            "......................WSSE = 9084.621516328136 \n",
            "Training for cluster size 19 \n",
            "......................WSSE = 8944.756222186194 \n",
            "Training for cluster size 20 \n",
            "......................WSSE = 8928.087996689694 \n",
            "Training for cluster size 21 \n",
            "......................WSSE = 8820.413371350936 \n",
            "Training for cluster size 22 \n",
            "......................WSSE = 8665.773455062035 \n",
            "Training for cluster size 23 \n",
            "......................WSSE = 8633.517278379963 \n",
            "Training for cluster size 24 \n",
            "......................WSSE = 8473.82337007959 \n",
            "Training for cluster size 25 \n",
            "......................WSSE = 8325.323344791743 \n",
            "Training for cluster size 26 \n",
            "......................WSSE = 8368.846128484865 \n",
            "Training for cluster size 27 \n",
            "......................WSSE = 8293.960989030196 \n",
            "Training for cluster size 28 \n",
            "......................WSSE = 8271.620532395496 \n",
            "Training for cluster size 29 \n",
            "......................WSSE = 8166.9710675412225 \n",
            "Training for cluster size 30 \n",
            "......................WSSE = 8078.273785883941 \n"
          ]
        }
      ]
    },
    {
      "cell_type": "code",
      "metadata": {
        "colab": {
          "base_uri": "https://localhost:8080/",
          "height": 606
        },
        "id": "0BfxbxEz86GQ",
        "outputId": "76fcdede-ed94-4c8e-dfa7-2504ed29c7a9"
      },
      "source": [
        "elbow_plot(wsseList, clusters)"
      ],
      "execution_count": 37,
      "outputs": [
        {
          "output_type": "display_data",
          "data": {
            "text/plain": [
              "<Figure size 1080x720 with 1 Axes>"
            ],
            "image/png": "[encoded data removed]"
          },
          "metadata": {
            "needs_background": "light"
          }
        }
      ]
    },
    {
      "cell_type": "code",
      "metadata": {
        "colab": {
          "base_uri": "https://localhost:8080/"
        },
        "id": "uukBA2e1873l",
        "outputId": "4ddcd449-c1e9-473c-ecfa-f5847abc2a14"
      },
      "source": [
        "scaledDataFeat = scaledData.select(\"features\")\n",
        "scaledDataFeat.persist()"
      ],
      "execution_count": 38,
      "outputs": [
        {
          "output_type": "execute_result",
          "data": {
            "text/plain": [
              "DataFrame[features: vector]"
            ]
          },
          "metadata": {},
          "execution_count": 38
        }
      ]
    },
    {
      "cell_type": "code",
      "metadata": {
        "id": "oqvlXyVC89N9"
      },
      "source": [
        "kmeans = KMeans(k=12, seed=1)\n",
        "model = kmeans.fit(scaledDataFeat)\n",
        "transformed = model.transform(scaledDataFeat)"
      ],
      "execution_count": 39,
      "outputs": []
    },
    {
      "cell_type": "code",
      "metadata": {
        "colab": {
          "base_uri": "https://localhost:8080/"
        },
        "id": "QKlfrwo38-mZ",
        "outputId": "c55472d9-08fe-4286-b1ec-eb3238011630"
      },
      "source": [
        "centers = model.clusterCenters()\n",
        "centers"
      ],
      "execution_count": 40,
      "outputs": [
        {
          "output_type": "execute_result",
          "data": {
            "text/plain": [
              "[array([ 0.06893804,  0.45683215,  1.60904112, -0.70362184,  1.90095478,\n",
              "        -0.66528491, -0.40707692]),\n",
              " array([ 0.87387556, -0.30950457, -0.95975098,  2.17720105, -0.89984097,\n",
              "         2.2486309 , -0.89228132]),\n",
              " array([-0.15708809, -0.06155095, -0.96357879,  0.65832553, -0.89730562,\n",
              "         0.67199374, -0.56839844]),\n",
              " array([-0.54127266, -1.04557593,  0.69588235, -0.23285838,  0.70489923,\n",
              "        -0.22992384,  1.44849906]),\n",
              " array([-0.31017723,  0.3576853 ,  0.5739888 ,  0.60899241,  0.60559511,\n",
              "         0.53382581, -0.12563852]),\n",
              " array([-1.16646272, -1.10653809,  0.50774242,  1.55614152,  0.59250294,\n",
              "         1.53740282,  1.41580738]),\n",
              " array([ 1.55739374,  0.26224265, -0.96529835, -0.17838169, -0.84935931,\n",
              "        -0.16724466, -0.92473552]),\n",
              " array([-0.15404971, -0.92867244, -1.04937166, -0.59424866, -0.89364665,\n",
              "        -0.5956719 ,  0.90810645]),\n",
              " array([ 1.18960234, -0.0575922 ,  0.73444403, -0.67071999,  0.4394387 ,\n",
              "        -0.66138155, -0.60991629]),\n",
              " array([-0.40178733, -0.22085983,  0.57266845, -0.73719311, -0.00292134,\n",
              "        -0.72452326, -0.1236826 ]),\n",
              " array([-0.11587241,  1.30196241,  0.6087615 , -0.57899197,  0.42954557,\n",
              "        -0.57494299, -0.5632368 ]),\n",
              " array([-0.19608137,  1.02105619, -1.0855754 , -0.54900987, -1.00051997,\n",
              "        -0.57771569, -0.54122925])]"
            ]
          },
          "metadata": {},
          "execution_count": 40
        }
      ]
    },
    {
      "cell_type": "code",
      "metadata": {
        "id": "0RcM11qs8_-6"
      },
      "source": [
        "P = pd_centers(featuresUsed, centers)"
      ],
      "execution_count": 41,
      "outputs": []
    },
    {
      "cell_type": "code",
      "metadata": {
        "colab": {
          "base_uri": "https://localhost:8080/",
          "height": 488
        },
        "id": "OVJki4cM_VT3",
        "outputId": "1fc293fa-d4ad-4030-8532-bb4730ae52b1"
      },
      "source": [
        "# Dry Days\n",
        "parallel_plot(P[P['relative_humidity'] < -0.5], P)"
      ],
      "execution_count": 42,
      "outputs": [
        {
          "output_type": "display_data",
          "data": {
            "text/plain": [
              "<Figure size 1080x576 with 1 Axes>"
            ],
            "image/png": "[encoded data removed]"
          },
          "metadata": {
            "needs_background": "light"
          }
        }
      ]
    },
    {
      "cell_type": "code",
      "metadata": {
        "colab": {
          "base_uri": "https://localhost:8080/",
          "height": 488
        },
        "id": "YUOcX_Jx_h_H",
        "outputId": "23c3d863-d04b-44f5-de7e-d334ecbe617d"
      },
      "source": [
        "#warm days\n",
        "parallel_plot(P[P['air_temp'] > 0.5], P)"
      ],
      "execution_count": 43,
      "outputs": [
        {
          "output_type": "display_data",
          "data": {
            "text/plain": [
              "<Figure size 1080x576 with 1 Axes>"
            ],
            "image/png": "[encoded data removed]"
          },
          "metadata": {
            "needs_background": "light"
          }
        }
      ]
    },
    {
      "cell_type": "code",
      "metadata": {
        "colab": {
          "base_uri": "https://localhost:8080/",
          "height": 488
        },
        "id": "Wwsd1a1H_lQ2",
        "outputId": "9723e2c3-874a-42cd-f98f-7a9020373ff0"
      },
      "source": [
        "#cool days\n",
        "parallel_plot(P[(P['relative_humidity'] > 0.5) & (P['air_temp'] < 0.5)], P)"
      ],
      "execution_count": 44,
      "outputs": [
        {
          "output_type": "display_data",
          "data": {
            "text/plain": [
              "<Figure size 1080x576 with 1 Axes>"
            ],
            "image/png": "[encoded data removed]"
          },
          "metadata": {
            "needs_background": "light"
          }
        }
      ]
    },
    {
      "cell_type": "code",
      "metadata": {
        "id": "p51SmSuV_otI",
        "colab": {
          "base_uri": "https://localhost:8080/",
          "height": 488
        },
        "outputId": "073c88d6-eefe-413f-9c7e-3463abc6906a"
      },
      "source": [
        "#other days\n",
        "parallel_plot(P.iloc[[2]], P)"
      ],
      "execution_count": 45,
      "outputs": [
        {
          "output_type": "display_data",
          "data": {
            "text/plain": [
              "<Figure size 1080x576 with 1 Axes>"
            ],
            "image/png": "[encoded data removed]"
          },
          "metadata": {
            "needs_background": "light"
          }
        }
      ]
    }
  ]
}